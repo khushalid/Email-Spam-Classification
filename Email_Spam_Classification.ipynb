{
 "cells": [
  {
   "cell_type": "markdown",
   "metadata": {
    "id": "2Tgjq0un8yjR"
   },
   "source": [
    "# Email spam classification"
   ]
  },
  {
   "cell_type": "markdown",
   "metadata": {
    "id": "O96qHbeB8yjR"
   },
   "source": [
    "   - The data contains 3 subfolders:\n",
    "      - `ham` contains ham emails.\n",
    "      - `spam` contains spam emails.\n",
    "      - `testing` is a folder containing test emails for your classifier. The ham/spam label is in the filename.\n",
    "      \n",
    "**Important**: For this problem, we do *not* use neural nets/deep nets."
   ]
  },
  {
   "cell_type": "markdown",
   "metadata": {
    "id": "a6WF1ONE8yjR"
   },
   "source": [
    "**(a) Printing the number of ham and spam emails**\n",
    "\n",
    "   - Is this dataset imbalanced? Will this be problematic in training the model?\n",
    "   - If so, how would you address it? "
   ]
  },
  {
   "cell_type": "code",
   "execution_count": 3,
   "metadata": {
    "colab": {
     "base_uri": "https://localhost:8080/",
     "height": 0
    },
    "id": "1LSV6wuTB_nm",
    "outputId": "2373b553-f50e-46c1-d484-0883ad7338f6"
   },
   "outputs": [
    {
     "name": "stdout",
     "output_type": "stream",
     "text": [
      "Mounted at /content/drive\n"
     ]
    }
   ],
   "source": [
    "from google.colab import drive\n",
    "drive.mount('/content/drive')"
   ]
  },
  {
   "cell_type": "code",
   "execution_count": 4,
   "metadata": {
    "colab": {
     "base_uri": "https://localhost:8080/",
     "height": 0
    },
    "id": "Ao9odfIP8yjR",
    "outputId": "87773935-876f-4cac-f6fd-f42118ce9c02"
   },
   "outputs": [
    {
     "name": "stdout",
     "output_type": "stream",
     "text": [
      "Total files in \"spam\": 3671\n",
      "Total files in \"ham\": 1500\n",
      "Total files in \"testing\": 100\n"
     ]
    }
   ],
   "source": [
    "import os\n",
    "import glob\n",
    "\n",
    "#main folder path\n",
    "main_folder_path = '/content/drive/MyDrive/Unstructured_Data_Analytics/HW3/email-data'\n",
    "\n",
    "for subfolder in os.listdir(main_folder_path):\n",
    "    subfolder_path = os.path.join(main_folder_path, subfolder)\n",
    "\n",
    "    if os.path.isdir(subfolder_path):\n",
    "        files = glob.glob(os.path.join(subfolder_path, '*'))\n",
    "        file_count = len(files)\n",
    "\n",
    "        print(f'Total files in \"{subfolder}\": {file_count}')"
   ]
  },
  {
   "cell_type": "markdown",
   "metadata": {
    "id": "Qbv1Yg4D8yjS"
   },
   "source": [
    "**answers to the above questions:**\n",
    "\n",
    "Yes, this dataset is imbalanced. In our case, with 1500 ham emails and 3671 spam emails, the spam class is more than twice the size of the ham class. This imbalance can potentially lead to issues in training a machine learning model.\n",
    "\n",
    "Strategies to Address Imbalance:\n",
    "Resampling Techniques:\n",
    "\n",
    "Oversampling the Minority Class: Increase the number of samples in the minority class (ham) by replicating them or using techniques like SMOTE (Synthetic Minority Over-sampling Technique).\n",
    "Undersampling the Majority Class: Reduce the number of samples in the majority class (spam) to balance the dataset.\n",
    "Altering Class Weights:\n",
    "\n",
    "Use algorithms that support class weighting, giving more weight to the minority class during training. Many models in scikit-learn have a class_weight parameter that can be set to 'balanced' or manually specified weights.\n",
    "\n"
   ]
  },
  {
   "cell_type": "markdown",
   "metadata": {
    "id": "l2r8uZyK8yjS"
   },
   "source": [
    "**(b) Construct the documents**\n",
    "\n",
    "   - Provided below is a function that returns a document present in a file given a filename.\n",
    "   - The function performs some preprocessing to (1) remove punctuation, (2),(3) remove whitespace and (4) lowercase all words.\n",
    "   - We use this function to construct a list of documents.\n",
    "   - Also construct a list of document labels containing `1` for spam and `0` for ham."
   ]
  },
  {
   "cell_type": "code",
   "execution_count": 5,
   "metadata": {
    "id": "zgnT7LSI8yjS"
   },
   "outputs": [],
   "source": [
    "import re\n",
    "import string\n",
    "import codecs\n",
    "\n",
    "def make_word_list(path):\n",
    "\n",
    "    with codecs.open(path, \"r\", encoding='utf-8', errors='ignore') as f:\n",
    "        corpus_text = f.read()\n",
    "\n",
    "    for c in string.punctuation:\n",
    "        corpus_text = corpus_text.replace(c, \"\")  # -- (1)\n",
    "\n",
    "    text = re.sub(r'\\S*\\d\\S*','',corpus_text) # -- (2)\n",
    "    text = re.sub(r'[^\\w\\s]','',text)         # -- (3)\n",
    "\n",
    "    text = text.lower().split()           # -- (4)\n",
    "\n",
    "    li = []\n",
    "    for token in text:\n",
    "        li.append(token)\n",
    "\n",
    "    return \" \".join(li)"
   ]
  },
  {
   "cell_type": "code",
   "execution_count": 6,
   "metadata": {
    "id": "fcboyRqd8yjS"
   },
   "outputs": [],
   "source": [
    "import os\n",
    "\n",
    "folder_path = '/content/drive/MyDrive/Unstructured_Data_Analytics/HW3/email-data'\n",
    "\n",
    "documents = []\n",
    "labels = []\n",
    "\n",
    "# Function to process files in a given subfolder\n",
    "def process_files(subfolder, label):\n",
    "    subfolder_path = os.path.join(folder_path, subfolder)\n",
    "    for filename in os.listdir(subfolder_path):\n",
    "        if filename.endswith('.txt'):\n",
    "            file_path = os.path.join(subfolder_path, filename)\n",
    "            document = make_word_list(file_path)\n",
    "            documents.append(document)\n",
    "            labels.append(label)\n",
    "\n",
    "# Process ham files\n",
    "process_files('ham', 0)\n",
    "\n",
    "# Process spam files\n",
    "process_files('spam', 1)"
   ]
  },
  {
   "cell_type": "markdown",
   "metadata": {
    "id": "lSYYcYdj8yjS"
   },
   "source": [
    "**(c) Construct the document matrix `X` as a matrix of word frequencies**\n",
    "\n",
    "   - Now we use the `CountVectorizer` from scikit-learn.\n",
    "   - Set `min_df=50`; this drops words that don't occur in at least 50 documents.\n",
    "   - Set `stop_words=\"english\"` and `max_df=0.8` to filter out stop-words.\n",
    "   - Print the size of the vocabulary (number of unique words)"
   ]
  },
  {
   "cell_type": "code",
   "execution_count": 7,
   "metadata": {
    "colab": {
     "base_uri": "https://localhost:8080/",
     "height": 0
    },
    "id": "87d6hhEV8yjS",
    "outputId": "ffe66ebd-437b-406f-da58-0ded5c57cb4f"
   },
   "outputs": [
    {
     "name": "stdout",
     "output_type": "stream",
     "text": [
      "Size of vocabulary: 1680\n"
     ]
    }
   ],
   "source": [
    "from sklearn.feature_extraction.text import CountVectorizer\n",
    "\n",
    "vectorizer = CountVectorizer(min_df=50, max_df=0.8, stop_words='english')\n",
    "\n",
    "X = vectorizer.fit_transform(documents)\n",
    "\n",
    "print(f\"Size of vocabulary: {len(vectorizer.vocabulary_)}\")"
   ]
  },
  {
   "cell_type": "markdown",
   "metadata": {
    "id": "ltQ-LHlo8yjS"
   },
   "source": [
    "**(d) k-NN: Hyperparameter selection**\n",
    "\n",
    "Now that we have our documents and labels as training data, we can use a validation set to help select hyperparameters for a k-NN classifier.\n",
    "\n",
    "We use the **weighted F1-score** as the evaluation metric (i.e., for the `f1_score` function imported from `sklearn.metrics`, be sure to use the parameter `average='weighted'`).\n",
    "\n",
    "Provided is some seed code for hyperparameter tuning that you may modify and reuse."
   ]
  },
  {
   "cell_type": "code",
   "execution_count": 8,
   "metadata": {
    "colab": {
     "base_uri": "https://localhost:8080/",
     "height": 0
    },
    "id": "ckM2epML8yjS",
    "outputId": "1245b0f6-e405-4506-8b65-95e95c5911d9"
   },
   "outputs": [
    {
     "name": "stdout",
     "output_type": "stream",
     "text": [
      "Best F1 Score: 0.9199959460829027\n",
      "Best Hyperparameter (k): 2\n"
     ]
    }
   ],
   "source": [
    "from sklearn.neighbors import KNeighborsClassifier\n",
    "from sklearn.metrics import f1_score\n",
    "from sklearn.model_selection import train_test_split\n",
    "import numpy as np\n",
    "\n",
    "\n",
    "# Assuming 'documents' and 'labels' are your data and target labels\n",
    "X = X\n",
    "y = labels\n",
    "\n",
    "# Split the data into training and validation sets\n",
    "X_train, X_val, y_train, y_val = train_test_split(X, y, test_size=0.2, random_state=42)\n",
    "\n",
    "# Define a range of hyperparameters to test (e.g., different values of k)\n",
    "hyperparameter_settings = [2, 4, 6, 8, 10, 12, 14, 16]\n",
    "\n",
    "best_score = -np.inf\n",
    "best_hyperparam_setting = None\n",
    "best_model = None\n",
    "\n",
    "# Iterate over the hyperparameter settings\n",
    "for k in hyperparameter_settings:\n",
    "    # Train the k-NN model\n",
    "    model = KNeighborsClassifier(n_neighbors=k)\n",
    "    model.fit(X_train, y_train)\n",
    "\n",
    "    # Make predictions on the validation set\n",
    "    y_pred = model.predict(X_val)\n",
    "\n",
    "    # Calculate the weighted F1 score\n",
    "    score = f1_score(y_val, y_pred, average='weighted')\n",
    "\n",
    "    # Update the best score, hyperparameter and model if current model is better\n",
    "    if score > best_score:\n",
    "        best_score = score\n",
    "        best_hyperparam_setting = k\n",
    "        best_model = model\n",
    "\n",
    "# Print the best hyperparameter setting and its score\n",
    "print(f\"Best F1 Score: {best_score}\")\n",
    "print(f\"Best Hyperparameter (k): {best_hyperparam_setting}\")"
   ]
  },
  {
   "cell_type": "markdown",
   "metadata": {
    "id": "hFKn_TZf8yjS"
   },
   "source": [
    "**(e) Classifier testing: Precision-Recall and ROC curves**\n",
    "\n",
    "We use test emails in the `testing` folder to **test** our best k-NN classifier (the one stored in `best_model` after running our code for part (d)) and construct the plots below.\n",
    "\n",
    "\n",
    "   - We construct an ROC curve for a k-NN classifier. (We vary the threshold probability of declaring an email to be spam to obtain these plots.) In the legend of this plot, we display the AUC for the k-NN classifier.\n",
    "   - We construct one plot containing a precision-recall curve for the k-NN classifier. In the legend of this plot, we display the average precision for each classifier using the sklearn function [`average_precision_score`](https://scikit-learn.org/stable/modules/generated/sklearn.metrics.average_precision_score.html#sklearn.metrics.average_precision_score); average precision is essentially an approximation of the area under the precision-recall curve that avoids being overly optimistic.\n",
    "\n",
    "Note that these plots are on the test data: we will have to read in this data, construct a document matrix and labels. Some words in the test data may not have been present in the training data: there are multiple ways to address this, then we briefly describe our approach.\n",
    "\n",
    "Things to answer:\n",
    "\n",
    "   - Of the ROC and Precision-Recall curves, which one would you use for this task and why?"
   ]
  },
  {
   "cell_type": "code",
   "execution_count": 9,
   "metadata": {
    "colab": {
     "base_uri": "https://localhost:8080/",
     "height": 927
    },
    "id": "RVIYj3zl8yjS",
    "outputId": "6807b785-557c-41fa-95a6-cd1217d40744"
   },
   "outputs": [
    {
     "data": {
      "image/png": "[encoded data removed]",
      "text/plain": [
       "<Figure size 640x480 with 1 Axes>"
      ]
     },
     "metadata": {},
     "output_type": "display_data"
    },
    {
     "data": {
      "image/png": "[encoded data removed]",
      "text/plain": [
       "<Figure size 640x480 with 1 Axes>"
      ]
     },
     "metadata": {},
     "output_type": "display_data"
    }
   ],
   "source": [
    "# Process files in the test dataset\n",
    "import os\n",
    "\n",
    "def process_test_files(folder_path):\n",
    "    test_documents = []\n",
    "    test_labels = []\n",
    "\n",
    "    for filename in os.listdir(folder_path):\n",
    "        if filename.endswith('.txt'):\n",
    "\n",
    "            if '.spam' in filename:\n",
    "                label = 1  # Spam\n",
    "            elif '.ham' in filename:\n",
    "                label = 0  # Ham\n",
    "\n",
    "\n",
    "            file_path = os.path.join(folder_path, filename)\n",
    "            document = make_word_list(file_path)\n",
    "\n",
    "            test_documents.append(document)\n",
    "            test_labels.append(label)\n",
    "\n",
    "    return test_documents, test_labels\n",
    "\n",
    "# Path to the folder containing test emails\n",
    "\n",
    "test_folder_path = '/content/drive/MyDrive/Unstructured_Data_Analytics/HW3/email-data/testing'\n",
    "\n",
    "# Process the test files and get documents and labels\n",
    "test_documents, test_labels = process_test_files(test_folder_path)\n",
    "\n",
    "\n",
    "\n",
    "import matplotlib.pyplot as plt\n",
    "from sklearn.metrics import roc_curve, auc, precision_recall_curve, average_precision_score\n",
    "\n",
    "# Transform the test data using the same vectorizer\n",
    "X_test = vectorizer.transform(test_documents)\n",
    "y_test = test_labels\n",
    "\n",
    "# Use the best model to get the probability predictions\n",
    "y_score = best_model.predict_proba(X_test)[:, 1]\n",
    "\n",
    "# ROC Curve\n",
    "fpr, tpr, _ = roc_curve(y_test, y_score)\n",
    "roc_auc = auc(fpr, tpr)\n",
    "\n",
    "plt.figure()\n",
    "plt.plot(fpr, tpr, color='darkorange', lw=2, label='ROC curve (area = %0.2f)' % roc_auc)\n",
    "plt.xlabel('False Positive Rate')\n",
    "plt.ylabel('True Positive Rate')\n",
    "plt.title('Receiver Operating Characteristic')\n",
    "plt.legend(loc=\"lower right\")\n",
    "plt.show()\n",
    "\n",
    "# Precision-Recall Curve\n",
    "precision, recall, _ = precision_recall_curve(y_test, y_score)\n",
    "average_precision = average_precision_score(y_test, y_score)\n",
    "\n",
    "plt.figure()\n",
    "plt.plot(recall, precision, color='blue', lw=2, label='Average Precision = %0.2f' % average_precision)\n",
    "plt.xlabel('Recall')\n",
    "plt.ylabel('Precision')\n",
    "plt.title('Precision-Recall Curve')\n",
    "plt.legend(loc=\"lower left\")\n",
    "plt.show()\n"
   ]
  },
  {
   "cell_type": "markdown",
   "metadata": {
    "id": "75-GWFvccey3"
   },
   "source": [
    "\n",
    "When dealing with words in the test data that were not present in the training data, the key challenge is how to handle these unseen words during the model's prediction phase. There are a few approaches to address this issue. I use the \"Ignore Unseen Approach\"\n",
    "\n",
    "Ignore Unseen Words:  When using CountVectorizer by default, they ignore words in the test set that were not present in the training set. This approach assumes that the impact of unseen words on the overall prediction is minimal, especially if the training set is large and representative enough.\n"
   ]
  },
  {
   "cell_type": "markdown",
   "metadata": {
    "id": "nUFIEVhG8yjT"
   },
   "source": [
    "**Answer to the non-coding question:**\n",
    "\n",
    "ROC Curve is generally used when the classes are balanced and the costs of false positives and false negatives are similar. It shows the trade-off between sensitivity (True Positive Rate) and specificity (1 - False Positive Rate).\n",
    "\n",
    "Precision-Recall Curve is more informative when dealing with imbalanced datasets, where the focus is more on the positive class (spam in your case). It shows the trade-off between precision and recall for different threshold settings.\n",
    "\n",
    "For spam detection, where false negatives (marking spam as ham) and false positives (marking ham as spam) might have different implications and the dataset might be imbalanced (typically more ham than spam), the Precision-Recall Curve is often more appropriate. It provides a better measure of success in predicting the positive class (spam) when the classes are imbalanced."
   ]
  }
 ],
 "metadata": {
  "accelerator": "GPU",
  "colab": {
   "gpuType": "T4",
   "provenance": [],
   "toc_visible": true
  },
  "kernelspec": {
   "display_name": "Python 3 (ipykernel)",
   "language": "python",
   "name": "python3"
  },
  "language_info": {
   "codemirror_mode": {
    "name": "ipython",
    "version": 3
   },
   "file_extension": ".py",
   "mimetype": "text/x-python",
   "name": "python",
   "nbconvert_exporter": "python",
   "pygments_lexer": "ipython3",
   "version": "3.11.4"
  }
 },
 "nbformat": 4,
 "nbformat_minor": 1
}
